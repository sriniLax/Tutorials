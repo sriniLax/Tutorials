{
 "cells": [
  {
   "cell_type": "markdown",
   "id": "09751b83-389d-4084-8190-c7261c25ce48",
   "metadata": {},
   "source": [
    "## Loops in Python\n",
    "\n",
    "1. `for` loop\n",
    "2. `while` loop\n",
    "\n",
    "## conditionals\n",
    "1. `if .. elif .. else ..` \n",
    "2. `match` ---> in C switch statement\n"
   ]
  },
  {
   "cell_type": "code",
   "execution_count": 1,
   "id": "ba4dd07a-6f18-4504-9284-4a73699b1033",
   "metadata": {},
   "outputs": [
    {
     "data": {
      "text/plain": [
       "range(0, 10)"
      ]
     },
     "execution_count": 1,
     "metadata": {},
     "output_type": "execute_result"
    }
   ],
   "source": [
    "c=range(10)\n",
    "c"
   ]
  },
  {
   "cell_type": "code",
   "execution_count": 8,
   "id": "8aac77d8-15b0-4284-b13b-ca52b3968ba7",
   "metadata": {},
   "outputs": [
    {
     "data": {
      "text/plain": [
       "range(2, 10, 2)"
      ]
     },
     "execution_count": 8,
     "metadata": {},
     "output_type": "execute_result"
    }
   ],
   "source": [
    "c=range(2,10,2)\n",
    "c"
   ]
  },
  {
   "cell_type": "code",
   "execution_count": 9,
   "id": "bc3d0463-037f-410f-a449-2c79d1c32836",
   "metadata": {},
   "outputs": [
    {
     "name": "stdout",
     "output_type": "stream",
     "text": [
      "2\n",
      "4\n",
      "6\n",
      "8\n"
     ]
    }
   ],
   "source": [
    "for i in c:\n",
    "    print(i)    "
   ]
  },
  {
   "cell_type": "code",
   "execution_count": 14,
   "id": "f5799b40-7243-407c-a86d-0a4befbd37d3",
   "metadata": {},
   "outputs": [
    {
     "name": "stdout",
     "output_type": "stream",
     "text": [
      "d\n",
      "c\n",
      "aeferfr\n",
      "b\n"
     ]
    }
   ],
   "source": [
    "c={'aeferfr',\"b\",\"c\",\"d\"}\n",
    "\n",
    "for i in c: # for i in iterable\n",
    "    print(i)"
   ]
  },
  {
   "cell_type": "code",
   "execution_count": 15,
   "id": "e5b5220a-3f49-4184-9684-5f7424ce5bc9",
   "metadata": {},
   "outputs": [],
   "source": [
    "c=\"wdw21343#$%#$%TT**341\""
   ]
  },
  {
   "cell_type": "code",
   "execution_count": 16,
   "id": "56b10f43-6c59-4267-8ee3-8757c51cbe70",
   "metadata": {},
   "outputs": [
    {
     "name": "stdout",
     "output_type": "stream",
     "text": [
      "0\n",
      "2\n",
      "4\n",
      "6\n",
      "8\n"
     ]
    }
   ],
   "source": [
    "c = 0\n",
    "\n",
    "while c < 10:\n",
    "    print(c)\n",
    "    c += 2"
   ]
  },
  {
   "cell_type": "code",
   "execution_count": 18,
   "id": "489057db-a317-45a3-8b85-cf0ad8ca587d",
   "metadata": {},
   "outputs": [
    {
     "name": "stdout",
     "output_type": "stream",
     "text": [
      "0\n",
      "2\n",
      "4\n",
      "6\n",
      "8\n"
     ]
    }
   ],
   "source": [
    "for i in range(0,15,2):\n",
    "    if i < 10:\n",
    "        print(i)\n",
    "    else:\n",
    "        break"
   ]
  },
  {
   "cell_type": "code",
   "execution_count": 20,
   "id": "3576286b-bf0a-463b-9aee-be54b525d7f2",
   "metadata": {},
   "outputs": [
    {
     "name": "stdout",
     "output_type": "stream",
     "text": [
      "0\n",
      "2\n",
      "4\n",
      "6\n",
      "8\n"
     ]
    }
   ],
   "source": [
    "for i in range(15):\n",
    "    if i >= 10:\n",
    "        break\n",
    "        \n",
    "    if i%2 == 0:\n",
    "        print(i)\n"
   ]
  },
  {
   "cell_type": "code",
   "execution_count": 21,
   "id": "4b278391-b4b4-4053-b099-a9960679fd06",
   "metadata": {},
   "outputs": [
    {
     "name": "stdout",
     "output_type": "stream",
     "text": [
      "0\n",
      "2\n",
      "4\n",
      "6\n",
      "8\n"
     ]
    }
   ],
   "source": [
    "for i in range(15):\n",
    "    if i >=10:\n",
    "        break\n",
    "    \n",
    "    if i%2 > 0:\n",
    "        continue\n",
    "\n",
    "    print(i)"
   ]
  },
  {
   "cell_type": "markdown",
   "id": "7673d3e6-0b50-4fb6-8edb-437aae1efdbe",
   "metadata": {},
   "source": [
    "## Function introduction\n",
    "```\n",
    "def <function name>:\n",
    "    pass\n",
    "\n",
    "def <function name>(a,b):\n",
    "    # something with a and b and returns a value\n",
    "    return 0\n",
    "\n",
    "def <function name>(a,b) -> c:\n",
    "    pass\n",
    "```"
   ]
  },
  {
   "cell_type": "code",
   "execution_count": 33,
   "id": "927769ba-cc5f-4a42-ab38-623fbe7763cc",
   "metadata": {},
   "outputs": [],
   "source": [
    "def multiply(x):\n",
    "    return x*2"
   ]
  },
  {
   "cell_type": "code",
   "execution_count": 34,
   "id": "0c673290-3aa6-4e1f-8427-45dc43f0796a",
   "metadata": {},
   "outputs": [],
   "source": [
    "c = multiply(10)"
   ]
  },
  {
   "cell_type": "code",
   "execution_count": 35,
   "id": "e8c42867-4ab0-477a-bbe8-b44e996b03bb",
   "metadata": {},
   "outputs": [
    {
     "data": {
      "text/plain": [
       "20"
      ]
     },
     "execution_count": 35,
     "metadata": {},
     "output_type": "execute_result"
    }
   ],
   "source": [
    "c"
   ]
  },
  {
   "cell_type": "code",
   "execution_count": 3,
   "id": "2e62fee9-c3d3-4b74-afdb-7f276d1a6c5c",
   "metadata": {},
   "outputs": [],
   "source": [
    "def multiple(x:int)->int:\n",
    "    return int(d*2)"
   ]
  },
  {
   "cell_type": "code",
   "execution_count": 4,
   "id": "5b53d662-fdaf-44ad-8fb4-81b151f0dd86",
   "metadata": {},
   "outputs": [
    {
     "ename": "NameError",
     "evalue": "name 'd' is not defined",
     "output_type": "error",
     "traceback": [
      "\u001b[1;31m---------------------------------------------------------------------------\u001b[0m",
      "\u001b[1;31mNameError\u001b[0m                                 Traceback (most recent call last)",
      "Cell \u001b[1;32mIn[4], line 1\u001b[0m\n\u001b[1;32m----> 1\u001b[0m c \u001b[38;5;241m=\u001b[39m multiple(\u001b[38;5;241m10.2\u001b[39m)\n",
      "Cell \u001b[1;32mIn[3], line 2\u001b[0m, in \u001b[0;36mmultiple\u001b[1;34m(x)\u001b[0m\n\u001b[0;32m      1\u001b[0m \u001b[38;5;28;01mdef\u001b[39;00m \u001b[38;5;21mmultiple\u001b[39m(x:\u001b[38;5;28mint\u001b[39m)\u001b[38;5;241m-\u001b[39m\u001b[38;5;241m>\u001b[39m\u001b[38;5;28mint\u001b[39m:\n\u001b[1;32m----> 2\u001b[0m     \u001b[38;5;28;01mreturn\u001b[39;00m \u001b[38;5;28mint\u001b[39m(d\u001b[38;5;241m*\u001b[39m\u001b[38;5;241m2\u001b[39m)\n",
      "\u001b[1;31mNameError\u001b[0m: name 'd' is not defined"
     ]
    }
   ],
   "source": [
    "c = multiple(10.2)"
   ]
  },
  {
   "cell_type": "code",
   "execution_count": null,
   "id": "f968d505-da18-457b-b84a-4807d4217a22",
   "metadata": {},
   "outputs": [],
   "source": [
    "c"
   ]
  },
  {
   "cell_type": "code",
   "execution_count": null,
   "id": "dbb309b6-1329-43e5-9b12-2d3783541203",
   "metadata": {},
   "outputs": [],
   "source": []
  }
 ],
 "metadata": {
  "kernelspec": {
   "display_name": "Python 3 (ipykernel)",
   "language": "python",
   "name": "python3"
  },
  "language_info": {
   "codemirror_mode": {
    "name": "ipython",
    "version": 3
   },
   "file_extension": ".py",
   "mimetype": "text/x-python",
   "name": "python",
   "nbconvert_exporter": "python",
   "pygments_lexer": "ipython3",
   "version": "3.12.4"
  }
 },
 "nbformat": 4,
 "nbformat_minor": 5
}
