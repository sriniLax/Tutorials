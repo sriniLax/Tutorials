{
 "cells": [
  {
   "cell_type": "code",
   "execution_count": 1,
   "id": "0464a393-62fe-41f5-b583-af0995ce9615",
   "metadata": {},
   "outputs": [],
   "source": [
    "a = 3"
   ]
  },
  {
   "cell_type": "markdown",
   "id": "2afcf056-5ffa-4726-9f67-94fc7f8e7c07",
   "metadata": {},
   "source": [
    "# Python lesson 1"
   ]
  },
  {
   "cell_type": "markdown",
   "id": "121c516d-c040-4dfa-a65c-e6cc200bce80",
   "metadata": {},
   "source": [
    "In this lesson we will look at the basics of python\n",
    "\n",
    "**Basic Types**\n",
    "1. integers: -2,-1,0,1,2 (64 bit)\n",
    "2. floats: 2.4, -3.2, 0.0 (64 bit)\n",
    "3. string: (8 bit -- 1 byte for one character) -- immutable -- same as tuple\n",
    "4. lists: `[1,2,2.4, \"hello\",None]` -- mutable -- you can append a value, delete a value, change a value\n",
    "5. tuples: `(1,2,2.4,\"hello\",None)` --- immutable -- cannot append, or delete or change\n",
    "6. set: `{1,2,3,4,4}` --- can only have unique values -- mutable, you can add, delete, or change a value -- checking whether value is in a set is easier than in lists; values cannot be called by index\n",
    "7. dictionary (dict): `{\"a\":1,\"b\":2,...}` --- keys are always unique, values can be any object: number, lists, tuples, sets, or even dicts"
   ]
  },
  {
   "cell_type": "markdown",
   "id": "09d30e09-48c2-47ca-874f-f7ac144c5b5e",
   "metadata": {},
   "source": [
    "### Signed Integer\n",
    "\n",
    "1 bit is for sign 0 means +ve, 1 means -ve\n",
    "\n",
    "63 bits for actual value of the number\n",
    "\n",
    "-2^63 to 2^63\n",
    "\n",
    "8 bits = 1 byte, 64 bits = 8 bytes\n",
    "0 to 2^64-1\n",
    "\n",
    "### Signed float\n",
    "1-bit sign\n",
    "\n",
    "3 x 2^8\n",
    "\n",
    "11 +1 (sign) bits for the exponent, rest mantessa\n",
    "40 bits mantessa\n",
    "\n",
    "-2^40 X 2^(2^23)\n"
   ]
  },
  {
   "cell_type": "code",
   "execution_count": 3,
   "id": "9fe33885-5f8a-4b16-9cc2-037fa165908a",
   "metadata": {},
   "outputs": [
    {
     "name": "stdout",
     "output_type": "stream",
     "text": [
      "3\n"
     ]
    }
   ],
   "source": [
    "a = 3\n",
    "print(a)"
   ]
  },
  {
   "cell_type": "code",
   "execution_count": 1,
   "id": "a8b5bd11-f214-443a-9fbe-a1724712397e",
   "metadata": {},
   "outputs": [
    {
     "name": "stdout",
     "output_type": "stream",
     "text": [
      "hello\n"
     ]
    }
   ],
   "source": [
    "a = \"hello\"\n",
    "print(a)"
   ]
  },
  {
   "cell_type": "code",
   "execution_count": 3,
   "id": "0a3aeb98-76c3-4568-bf3e-cf5a2f7870ba",
   "metadata": {},
   "outputs": [
    {
     "data": {
      "text/plain": [
       "'h'"
      ]
     },
     "execution_count": 3,
     "metadata": {},
     "output_type": "execute_result"
    }
   ],
   "source": [
    "a[0]"
   ]
  },
  {
   "cell_type": "code",
   "execution_count": 26,
   "id": "f3c24606-97ed-46ce-85b6-51f3a0084e36",
   "metadata": {},
   "outputs": [],
   "source": [
    "dict1 = dict()"
   ]
  },
  {
   "cell_type": "code",
   "execution_count": 30,
   "id": "75221c81-416b-46dd-a3ae-d666f2b85454",
   "metadata": {},
   "outputs": [],
   "source": [
    "dict1[\"a\"]=10\n",
    "dict1[\"b\"]=20"
   ]
  },
  {
   "cell_type": "code",
   "execution_count": 31,
   "id": "d75331f4-ad19-4e98-999b-d8bef9d53390",
   "metadata": {},
   "outputs": [
    {
     "data": {
      "text/plain": [
       "{'a': 10, 'b': 20}"
      ]
     },
     "execution_count": 31,
     "metadata": {},
     "output_type": "execute_result"
    }
   ],
   "source": [
    "dict1"
   ]
  },
  {
   "cell_type": "code",
   "execution_count": 32,
   "id": "1df1b764-fa9d-4fae-9390-918b2b1519f1",
   "metadata": {},
   "outputs": [
    {
     "data": {
      "text/plain": [
       "set()"
      ]
     },
     "execution_count": 32,
     "metadata": {},
     "output_type": "execute_result"
    }
   ],
   "source": [
    "s = set()\n",
    "s"
   ]
  },
  {
   "cell_type": "code",
   "execution_count": 33,
   "id": "441b9738-e672-4115-b482-352d03cdd501",
   "metadata": {},
   "outputs": [
    {
     "data": {
      "text/plain": [
       "{2}"
      ]
     },
     "execution_count": 33,
     "metadata": {},
     "output_type": "execute_result"
    }
   ],
   "source": [
    "s.add(2)\n",
    "s"
   ]
  },
  {
   "cell_type": "code",
   "execution_count": 12,
   "id": "cb15993d-fae7-45c3-874e-1721cc112c9e",
   "metadata": {},
   "outputs": [
    {
     "data": {
      "text/plain": [
       "'hello world'"
      ]
     },
     "execution_count": 12,
     "metadata": {},
     "output_type": "execute_result"
    }
   ],
   "source": [
    "c = a+\" world\"\n",
    "c"
   ]
  },
  {
   "cell_type": "code",
   "execution_count": 13,
   "id": "0de54246-f71b-48c2-8f4f-974988217ec0",
   "metadata": {},
   "outputs": [
    {
     "data": {
      "text/plain": [
       "11"
      ]
     },
     "execution_count": 13,
     "metadata": {},
     "output_type": "execute_result"
    }
   ],
   "source": [
    "len(c)"
   ]
  },
  {
   "cell_type": "code",
   "execution_count": 15,
   "id": "b4014654-8eb6-40c3-9229-82c20b151638",
   "metadata": {},
   "outputs": [
    {
     "name": "stdout",
     "output_type": "stream",
     "text": [
      "(1, 2, 3, 'hello', '#$#dfdfd')\n"
     ]
    }
   ],
   "source": [
    "c=(1,2,3,\"hello\",\"#$#dfdfd\")\n",
    "print(c)"
   ]
  },
  {
   "cell_type": "code",
   "execution_count": 16,
   "id": "29612c69-98c8-4680-8833-922a1c202de5",
   "metadata": {},
   "outputs": [
    {
     "data": {
      "text/plain": [
       "1.5"
      ]
     },
     "execution_count": 16,
     "metadata": {},
     "output_type": "execute_result"
    }
   ],
   "source": [
    "a=3\n",
    "b=2\n",
    "\n",
    "c=a/b\n",
    "c"
   ]
  },
  {
   "cell_type": "code",
   "execution_count": 17,
   "id": "80304528-ef71-4690-9da3-4876887d3e4b",
   "metadata": {},
   "outputs": [
    {
     "name": "stdout",
     "output_type": "stream",
     "text": [
      "<class 'float'>\n"
     ]
    }
   ],
   "source": [
    "print(type(c))"
   ]
  },
  {
   "cell_type": "code",
   "execution_count": 18,
   "id": "b16a8707-62d9-405a-bcae-9ec067989342",
   "metadata": {},
   "outputs": [
    {
     "name": "stdout",
     "output_type": "stream",
     "text": [
      "<class 'int'>\n"
     ]
    }
   ],
   "source": [
    "print(type(a))"
   ]
  },
  {
   "cell_type": "code",
   "execution_count": 19,
   "id": "de809387-0f4b-45cf-a057-243f19d55627",
   "metadata": {},
   "outputs": [
    {
     "data": {
      "text/plain": [
       "1"
      ]
     },
     "execution_count": 19,
     "metadata": {},
     "output_type": "execute_result"
    }
   ],
   "source": [
    "c = a//b\n",
    "c"
   ]
  },
  {
   "cell_type": "code",
   "execution_count": 20,
   "id": "7fa570ef-c965-4a97-a50e-14fbea2306bb",
   "metadata": {},
   "outputs": [
    {
     "data": {
      "text/plain": [
       "1"
      ]
     },
     "execution_count": 20,
     "metadata": {},
     "output_type": "execute_result"
    }
   ],
   "source": [
    "c = a % b\n",
    "c"
   ]
  },
  {
   "cell_type": "markdown",
   "id": "cef888fb-c73b-4dbf-adfb-4be78a86b891",
   "metadata": {},
   "source": [
    "# Arithmetic Operators\n",
    "*,/,//(to ensure int), %, +, -\n"
   ]
  },
  {
   "cell_type": "markdown",
   "id": "e62904a4-8524-4710-890c-f54932fb919a",
   "metadata": {},
   "source": [
    "a=2\n",
    "b=4\n",
    "c=6\n",
    "d=5\n",
    "print(a + b/d * c)"
   ]
  },
  {
   "cell_type": "markdown",
   "id": "2d88fefd-a312-4e7f-a92c-f3a9f63745c6",
   "metadata": {},
   "source": [
    "# Shift Operators\n",
    "\n",
    "a>>1 or a<<1\n",
    "\n",
    "This shifts the number to the right `>>`, or to the left `<<` by a given number. Examples:\n",
    "*`a>>1` means shift the number of bits of `a` by 1 to the right.\n",
    "*`a<<2` means shift the number of bits of `a` by 2 to the left.\n",
    "\n",
    "### What is bits?\n",
    "Bits are the binary representation of any number\n",
    "Example if \n",
    "\n",
    "a = 9 , binary can only have 0 or 1\n",
    "\n",
    "So 9 = 2^3 + 1 = 1 x 2^3 + 0 x 2^2 + 0 x 2^1 + 1 x 2^0 the binary representation of 9 is 1001 \n",
    "\n"
   ]
  },
  {
   "cell_type": "code",
   "execution_count": 35,
   "id": "5d42fe97-aa74-4d1b-8132-9561467ed562",
   "metadata": {},
   "outputs": [
    {
     "name": "stdout",
     "output_type": "stream",
     "text": [
      "4\n"
     ]
    }
   ],
   "source": [
    "b = 8 #--- binary representation of b is 1000 - 1 x 2^3 + 0 x 2^0 + 0 x 2^0 + 0 x 2^0 = 8\n",
    "print(b>>1) # Shift the number by 1 to the right -- 0x 2^3 + 1 x 2^2 + 0 x 2^1 + 0 x 2^0 = 0100"
   ]
  },
  {
   "cell_type": "code",
   "execution_count": 1,
   "id": "80279fee-572c-4152-9536-f8888cce7464",
   "metadata": {},
   "outputs": [
    {
     "name": "stdout",
     "output_type": "stream",
     "text": [
      "4\n",
      "16\n"
     ]
    }
   ],
   "source": [
    "b = 8\n",
    "print(b>>1) # divide by 2\n",
    "print(b<<1) # multiply by 2"
   ]
  },
  {
   "cell_type": "code",
   "execution_count": 36,
   "id": "f12a1b14-97e2-4bd4-8f15-7ba5303f5930",
   "metadata": {},
   "outputs": [
    {
     "name": "stdout",
     "output_type": "stream",
     "text": [
      "32 0b100000\n"
     ]
    }
   ],
   "source": [
    "c = b<<2 # --- decimal version --- b = 8, 8 x 2^2 === b<<2,\n",
    "# b>>2 --- decimal if b =8, then it is 8/2^2 = 8/4 = 2\n",
    "# b = 8 ---> 1000 \n",
    "# -- shift to the left by 1\n",
    "# 100000 c = bin(100000) --> 2^5 = 32\n",
    "print(c,bin(c))"
   ]
  },
  {
   "cell_type": "markdown",
   "id": "bd1488a4-3e60-481d-ba4d-5f427fbf4de1",
   "metadata": {},
   "source": [
    "b=8\n",
    "print(b)\n",
    "print(hex(b))\n",
    "print(bin(b))\n",
    "print(oct(b))"
   ]
  },
  {
   "cell_type": "code",
   "execution_count": 8,
   "id": "5f928d44-3821-4ebf-b86e-8fe7039b9d86",
   "metadata": {},
   "outputs": [
    {
     "name": "stdout",
     "output_type": "stream",
     "text": [
      "0x7b\n"
     ]
    }
   ],
   "source": [
    "#11 = 10 + 1\n",
    "\n",
    "#28 = 2*10 + 8\n",
    "\n",
    "#123 = 1*10^2 + 2*10 + 3\n",
    "\n",
    "#Hexadecimal - 16\n",
    "#123 = 7*16 + 11\n",
    "\n",
    "# Hexadecimal 0, 1,2,3,4,5,6,7,8,9, A=10, B=11, C, D, E, F\n",
    "# Octal 0,...8\n",
    "# binary 0,1\n",
    "\n",
    "#0 = 0000\n",
    "#1 = 0001\n",
    "#...\n",
    "#15 = F = 1111 = 1*2^3 + 1*2^2 + 1*2+1 = 8+4+2+1 = 15\n",
    "#\n",
    "#Hexadecimal of 123 = 7B\n",
    "\n",
    "print(hex(123)) # \"0x7B\"\n",
    "\n"
   ]
  },
  {
   "cell_type": "markdown",
   "id": "f342fa1f-2527-4bbb-83cc-f7d89dece8c2",
   "metadata": {},
   "source": [
    "### List in slight detail\n",
    "* append -- fast `O(1)`\n",
    "* remove -- `O(n)`\n",
    "* insert -- `O(n)`\n",
    "* 8 in lst -- `O(n)`\n",
    "* pop(index) default to the last element -- `O(1)`"
   ]
  },
  {
   "cell_type": "code",
   "execution_count": 37,
   "id": "87576315-86f8-46c1-bd34-c6c6700f16f7",
   "metadata": {},
   "outputs": [
    {
     "name": "stdout",
     "output_type": "stream",
     "text": [
      "[3, 4, 5]\n"
     ]
    }
   ],
   "source": [
    "lst = [3,4,5]\n",
    "print(lst)\n"
   ]
  },
  {
   "cell_type": "code",
   "execution_count": 18,
   "id": "8dd22c25-e010-4f30-a197-16d7b0ed0d4b",
   "metadata": {},
   "outputs": [],
   "source": [
    "set_l = {3,4,5,5}"
   ]
  },
  {
   "cell_type": "code",
   "execution_count": 19,
   "id": "5be26325-ced5-48ee-8519-5773925c47bd",
   "metadata": {},
   "outputs": [
    {
     "data": {
      "text/plain": [
       "{3, 4, 5}"
      ]
     },
     "execution_count": 19,
     "metadata": {},
     "output_type": "execute_result"
    }
   ],
   "source": [
    "set_l"
   ]
  },
  {
   "cell_type": "code",
   "execution_count": 38,
   "id": "217024f1-3fd8-4c9d-9171-17129bf0bf75",
   "metadata": {},
   "outputs": [
    {
     "name": "stdout",
     "output_type": "stream",
     "text": [
      "[3, 4, 5, 8]\n"
     ]
    }
   ],
   "source": [
    "lst.append(8)\n",
    "print(lst)"
   ]
  },
  {
   "cell_type": "code",
   "execution_count": 39,
   "id": "3e71c253-f398-466c-a69b-bd03b8efd04c",
   "metadata": {},
   "outputs": [
    {
     "name": "stdout",
     "output_type": "stream",
     "text": [
      "[3, 5, 8]\n"
     ]
    }
   ],
   "source": [
    "lst.remove(4)\n",
    "print(lst)"
   ]
  },
  {
   "cell_type": "code",
   "execution_count": 40,
   "id": "7e59258c-d673-43bd-b78a-0b9b886ce669",
   "metadata": {},
   "outputs": [
    {
     "name": "stdout",
     "output_type": "stream",
     "text": [
      "[3, 5, 9, 8]\n"
     ]
    }
   ],
   "source": [
    "lst.insert(2,9)\n",
    "print(lst)"
   ]
  },
  {
   "cell_type": "code",
   "execution_count": 41,
   "id": "2f71aa5d-153d-44b1-8f26-ae0acdba1b8b",
   "metadata": {},
   "outputs": [
    {
     "data": {
      "text/plain": [
       "True"
      ]
     },
     "execution_count": 41,
     "metadata": {},
     "output_type": "execute_result"
    }
   ],
   "source": [
    "5 in lst"
   ]
  },
  {
   "cell_type": "code",
   "execution_count": 42,
   "id": "afccbfa7-13ed-4b39-827e-87f76e08f1f3",
   "metadata": {},
   "outputs": [
    {
     "name": "stdout",
     "output_type": "stream",
     "text": [
      "[3, 5, 9]\n",
      "8\n"
     ]
    }
   ],
   "source": [
    "c = lst.pop()\n",
    "print(lst)\n",
    "print(c)"
   ]
  },
  {
   "cell_type": "code",
   "execution_count": 43,
   "id": "5f29f826-d7d7-4f3f-a7fd-59d1ef551d24",
   "metadata": {},
   "outputs": [
    {
     "name": "stdout",
     "output_type": "stream",
     "text": [
      "[3, 5]\n",
      "9\n"
     ]
    }
   ],
   "source": [
    "d = lst.pop(2)\n",
    "print(lst)\n",
    "print(d)"
   ]
  },
  {
   "cell_type": "code",
   "execution_count": 16,
   "id": "f80c05c5-7b95-4f77-bc10-802ad3111d67",
   "metadata": {},
   "outputs": [],
   "source": [
    "lst = [8,4,3]"
   ]
  },
  {
   "cell_type": "markdown",
   "id": "8654db88-17d2-4583-815f-b82ecf7fe27d",
   "metadata": {},
   "source": [
    "`[4,3,4,5,6]`\n",
    "First in first out == queue ---> breadth first search\n",
    "First in last out == stack ---> depth first search"
   ]
  },
  {
   "cell_type": "code",
   "execution_count": 17,
   "id": "84732163-2f32-4ffe-ba81-27de8f6b4f70",
   "metadata": {},
   "outputs": [],
   "source": [
    "def manipulate(ls):\n",
    "    ls.append(40)\n",
    "    print(ls)"
   ]
  },
  {
   "cell_type": "code",
   "execution_count": 18,
   "id": "ed93a331-06a4-4642-91b7-39b13ad6b383",
   "metadata": {},
   "outputs": [
    {
     "name": "stdout",
     "output_type": "stream",
     "text": [
      "[8, 4, 3, 40]\n"
     ]
    }
   ],
   "source": [
    "manipulate(lst)"
   ]
  },
  {
   "cell_type": "code",
   "execution_count": 20,
   "id": "b1627be7-d920-4ba3-ba01-3940e88c933d",
   "metadata": {},
   "outputs": [
    {
     "data": {
      "text/plain": [
       "[8, 4, 3]"
      ]
     },
     "execution_count": 20,
     "metadata": {},
     "output_type": "execute_result"
    }
   ],
   "source": [
    "lst=lst[:-1]\n",
    "lst"
   ]
  },
  {
   "cell_type": "code",
   "execution_count": 21,
   "id": "c0c3a35a-9d25-4381-a343-26f616620196",
   "metadata": {},
   "outputs": [
    {
     "name": "stdout",
     "output_type": "stream",
     "text": [
      "[8, 4, 3, 40]\n"
     ]
    }
   ],
   "source": [
    "#lst1 = lst[:]\n",
    "manipulate(lst[:])\n",
    "\n",
    "# pass by reference manipulate(lst) -- changes the lst object itself\n",
    "# pass by value manipulate(lst[:]) -- changes done inside the function do not affect the lst object."
   ]
  },
  {
   "cell_type": "code",
   "execution_count": 22,
   "id": "95e34da7-0ce7-4f72-8434-12de4110b397",
   "metadata": {},
   "outputs": [
    {
     "data": {
      "text/plain": [
       "[8, 4, 3]"
      ]
     },
     "execution_count": 22,
     "metadata": {},
     "output_type": "execute_result"
    }
   ],
   "source": [
    "lst"
   ]
  },
  {
   "cell_type": "code",
   "execution_count": null,
   "id": "f2aecf3e-5664-4ca2-8e0d-f18fbc73b5fb",
   "metadata": {},
   "outputs": [],
   "source": []
  }
 ],
 "metadata": {
  "kernelspec": {
   "display_name": "Python 3 (ipykernel)",
   "language": "python",
   "name": "python3"
  },
  "language_info": {
   "codemirror_mode": {
    "name": "ipython",
    "version": 3
   },
   "file_extension": ".py",
   "mimetype": "text/x-python",
   "name": "python",
   "nbconvert_exporter": "python",
   "pygments_lexer": "ipython3",
   "version": "3.12.4"
  }
 },
 "nbformat": 4,
 "nbformat_minor": 5
}
