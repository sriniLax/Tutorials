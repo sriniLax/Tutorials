{
 "cells": [
  {
   "cell_type": "markdown",
   "id": "7c645bd1-3041-4bb5-bdd5-a508347130cb",
   "metadata": {},
   "source": [
    "# Fun with Turtle"
   ]
  },
  {
   "cell_type": "code",
   "execution_count": 1,
   "id": "7171f57d-d9e5-4c45-aa35-7c22020ef553",
   "metadata": {},
   "outputs": [],
   "source": [
    "from turtle import *"
   ]
  },
  {
   "cell_type": "code",
   "execution_count": 2,
   "id": "2a3339fe-62a6-494b-a3fb-ead3bcab2fa4",
   "metadata": {},
   "outputs": [],
   "source": [
    "forward(100)"
   ]
  },
  {
   "cell_type": "code",
   "execution_count": 3,
   "id": "8b763d01-5c8c-475b-85d9-08fafb312126",
   "metadata": {},
   "outputs": [],
   "source": [
    "left(120)"
   ]
  },
  {
   "cell_type": "code",
   "execution_count": 5,
   "id": "99a71984-0910-4609-aae9-38136c0794dd",
   "metadata": {},
   "outputs": [],
   "source": [
    "forward(100)"
   ]
  },
  {
   "cell_type": "code",
   "execution_count": 6,
   "id": "5ec072fa-69c1-4385-b843-3747bda9089e",
   "metadata": {},
   "outputs": [],
   "source": [
    "for steps in range(100):\n",
    "    for c in ('blue', 'red', 'green'):\n",
    "        color(c)\n",
    "        forward(steps)\n",
    "        right(30)"
   ]
  },
  {
   "cell_type": "code",
   "execution_count": 6,
   "id": "4b543a45-f017-412d-b3ee-d36fc2455575",
   "metadata": {},
   "outputs": [],
   "source": [
    "color('red')\n",
    "fillcolor('yellow')"
   ]
  },
  {
   "cell_type": "code",
   "execution_count": null,
   "id": "56761fdd-9f67-4422-a6b6-2eac2aa08480",
   "metadata": {},
   "outputs": [],
   "source": []
  }
 ],
 "metadata": {
  "kernelspec": {
   "display_name": "Python 3 (ipykernel)",
   "language": "python",
   "name": "python3"
  },
  "language_info": {
   "codemirror_mode": {
    "name": "ipython",
    "version": 3
   },
   "file_extension": ".py",
   "mimetype": "text/x-python",
   "name": "python",
   "nbconvert_exporter": "python",
   "pygments_lexer": "ipython3",
   "version": "3.12.4"
  }
 },
 "nbformat": 4,
 "nbformat_minor": 5
}
